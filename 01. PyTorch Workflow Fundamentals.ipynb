{
 "cells": [
  {
   "cell_type": "markdown",
   "id": "308fcbfe-a7d0-4cc9-b5cf-ee7536e7aece",
   "metadata": {},
   "source": [
    "# 01. PyTorch Workflow Fundamentals\n"
   ]
  },
  {
   "cell_type": "code",
   "execution_count": null,
   "id": "2d009b73-d468-4e39-b040-b8a1e1f67b72",
   "metadata": {},
   "outputs": [],
   "source": []
  }
 ],
 "metadata": {
  "kernelspec": {
   "display_name": "Python 3 (ipykernel)",
   "language": "python",
   "name": "python3"
  },
  "language_info": {
   "codemirror_mode": {
    "name": "ipython",
    "version": 3
   },
   "file_extension": ".py",
   "mimetype": "text/x-python",
   "name": "python",
   "nbconvert_exporter": "python",
   "pygments_lexer": "ipython3",
   "version": "3.10.14"
  }
 },
 "nbformat": 4,
 "nbformat_minor": 5
}
